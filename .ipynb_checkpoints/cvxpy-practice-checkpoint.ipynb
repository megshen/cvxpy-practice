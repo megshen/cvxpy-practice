{
 "cells": [
  {
   "cell_type": "code",
   "execution_count": 4,
   "id": "a2db98ec",
   "metadata": {},
   "outputs": [
    {
     "name": "stdout",
     "output_type": "stream",
     "text": [
      "status: optimal\n",
      "optimal value 0.7499999999999999\n",
      "optimal var 0.5000000000000001\n"
     ]
    }
   ],
   "source": [
    "import cvxpy as cp\n",
    "x = cp.Variable()\n",
    "constraints = [x >= 0.5]\n",
    "obj = cp.Maximize(-(x**2)+1)\n",
    "#obj is objective\n",
    "\n",
    "prob = cp.Problem(obj, constraints)\n",
    "prob.solve() #returns optimal value = prob.value\n",
    "#prob.solve() returns the optimal value and updates prob.status, prob.value, and the value\n",
    "print(\"status:\", prob.status)\n",
    "print(\"optimal value\", prob.value)\n",
    "print(\"optimal var\", x.value)"
   ]
  },
  {
   "cell_type": "markdown",
   "id": "56857c76",
   "metadata": {},
   "source": [
    "Cost Minimizing notes\n",
    "- start with a set time interval in which to maximize profit e.g. 4 hours\n",
    "- one variable x as charge or discharge variable\n",
    "- objective function: (price*quantity in t1) + (price*quantity in t2) + ... \n",
    "- (quantity in t1) = x(1)\n",
    "- x is a vector of a variable (multidimensional variable)\n",
    "- prices are given, the constraints/parameters\n",
    "- 4 hours to fully charge battery 1kWh*4\n",
    "\n",
    "Constraints\n",
    "- constraint example: charged from 1-5 = umax\n",
    "- new variable SOC - the pool\n",
    "- don't need to define SOC, just use it for the obj function\n",
    "- 1<=SOC<=5\n",
    "- [1<=SOC & SOC<=5]\n",
    "- x is what goes in or out, like water flow\n",
    "- [-1<=x & x<=1]\n",
    "- -1 charged, 1 charged, 0 not charging nor discharging\n",
    "- umax>=1, umax<=5\n",
    "\n",
    "- how to initialize SOC at t=0\n",
    "- make it up for now e.g. 0.25\n",
    "- [SOC(0)=2.5]\n",
    "\n",
    "- implement relationship between x and SOC\n",
    "- [SOC(1)=SOC(0)+x]\n",
    "- maybe include efficiency of SOC\n",
    "\n",
    "- SOC(0) = SOC(t) at t=0\n",
    "- [SOC(t+1)=SOC(t)+x(t)]\n",
    "- vector of constraints for all t\n",
    "\n",
    "- one last constraint: last state of charge should be equal to initial SOC: [SOC(T)=SOC(0)]\n",
    "\n",
    "Next step\n",
    "- take a price vector over 1 hour\n",
    "- 12 market intervals, 12 unit price vector that you define (make up for now)\n",
    "- write optimization problem of how the battery should dispatch over the 12 market intervals given the price vector\n",
    "- "
   ]
  }
 ],
 "metadata": {
  "kernelspec": {
   "display_name": "Python 3",
   "language": "python",
   "name": "python3"
  },
  "language_info": {
   "codemirror_mode": {
    "name": "ipython",
    "version": 3
   },
   "file_extension": ".py",
   "mimetype": "text/x-python",
   "name": "python",
   "nbconvert_exporter": "python",
   "pygments_lexer": "ipython3",
   "version": "3.8.8"
  }
 },
 "nbformat": 4,
 "nbformat_minor": 5
}
